{
 "cells": [
  {
   "cell_type": "markdown",
   "metadata": {},
   "source": [
    "# Web Mining and Applied NLP (44-620)\n",
    "\n",
    "## Requests, JSON, and NLP\n",
    "\n",
    "### Student Name: Anthony Schomer       https://github.com/anythonyschomer/Mod4-JSON-and-NLP\n",
    "\n",
    "Perform the tasks described in the Markdown cells below.  When you have completed the assignment make sure your code cells have all been run (and have output beneath them) and ensure you have committed and pushed ALL of your changes to your assignment repository.\n",
    "\n",
    "Make sure you have [installed spaCy and its pipeline](https://spacy.io/usage#quickstart) and [spaCyTextBlob](https://spacy.io/universe/project/spacy-textblob)\n",
    "\n",
    "Every question that requires you to write code will have a code cell underneath it; you may either write your entire solution in that cell or write it in a python file (`.py`), then import and run the appropriate code to answer the question.\n",
    "\n",
    "This assignment requires that you write additional files (either JSON or pickle files); make sure to submit those files in your repository as well."
   ]
  },
  {
   "cell_type": "markdown",
   "metadata": {},
   "source": [
    "1. The following code accesses the [lyrics.ovh](https://lyricsovh.docs.apiary.io/#reference/0/lyrics-of-a-song/search) public api, searches for the lyrics of a song, and stores it in a dictionary object.  Write the resulting json to a file (either a JSON file or a pickle file; you choose). You will read in the contents of this file for future questions so we do not need to frequently access the API."
   ]
  },
  {
   "cell_type": "code",
   "execution_count": 5,
   "metadata": {},
   "outputs": [
    {
     "ename": "ModuleNotFoundError",
     "evalue": "No module named 'requests'",
     "output_type": "error",
     "traceback": [
      "\u001b[1;31m---------------------------------------------------------------------------\u001b[0m",
      "\u001b[1;31mModuleNotFoundError\u001b[0m                       Traceback (most recent call last)",
      "Cell \u001b[1;32mIn[5], line 1\u001b[0m\n\u001b[1;32m----> 1\u001b[0m \u001b[39mimport\u001b[39;00m \u001b[39mrequests\u001b[39;00m\n\u001b[0;32m      2\u001b[0m \u001b[39mimport\u001b[39;00m \u001b[39mjson\u001b[39;00m\n\u001b[0;32m      4\u001b[0m \u001b[39mdef\u001b[39;00m \u001b[39mget_lyrics\u001b[39m(artist, song):\n",
      "\u001b[1;31mModuleNotFoundError\u001b[0m: No module named 'requests'"
     ]
    }
   ],
   "source": [
    "import requests\n",
    "import json\n",
    "\n",
    "def get_lyrics(artist, song):\n",
    "    \"\"\"Get the lyrics for a song by an artist.\n",
    "\n",
    "    Args:\n",
    "        artist (str): The name of the artist.\n",
    "        song (str): The name of the song.\n",
    "\n",
    "    Returns:\n",
    "        dict: The lyrics of the song.\n",
    "    \"\"\"\n",
    "\n",
    "    url = \"https://api.lyricsovh.com/v1/search\"\n",
    "    params = {\n",
    "        \"q\": f\"{artist} {song}\",\n",
    "    }\n",
    "    response = requests.get(url, params=params)\n",
    "    response.raise_for_status()\n",
    "    data = response.json()\n",
    "    if not data:\n",
    "        return None\n",
    "    lyrics = data[\"lyrics\"]\n",
    "    return lyrics\n",
    "\n",
    "if __name__ == \"__main__\":\n",
    "    songs = [\"i miss you\", \"all the small things\", \"adams song\"]\n",
    "    lyrics = {}\n",
    "    for song in songs:\n",
    "        lyrics[song] = get_lyrics(\"blink-182\", song)\n",
    "\n",
    "    with open(\"lyrics.json\", \"w\") as f:\n",
    "        json.dump(lyrics, f)"
   ]
  },
  {
   "cell_type": "markdown",
   "metadata": {},
   "source": [
    "2. Read in the contents of your file.  Print the lyrics of the song (not the entire dictionary!) and use spaCyTextBlob to perform sentiment analysis on the lyrics.  Print the polarity score of the sentiment analysis.  Given that the range of the polarity score is `[-1.0,1.0]` which corresponds to how positive or negative the text in question is, do you think the lyrics have a more positive or negative connotaion?  Answer this question in a comment in your code cell."
   ]
  },
  {
   "cell_type": "code",
   "execution_count": 6,
   "metadata": {},
   "outputs": [
    {
     "ename": "ModuleNotFoundError",
     "evalue": "No module named 'spacy'",
     "output_type": "error",
     "traceback": [
      "\u001b[1;31m---------------------------------------------------------------------------\u001b[0m",
      "\u001b[1;31mModuleNotFoundError\u001b[0m                       Traceback (most recent call last)",
      "Cell \u001b[1;32mIn[6], line 2\u001b[0m\n\u001b[0;32m      1\u001b[0m \u001b[39mimport\u001b[39;00m \u001b[39mjson\u001b[39;00m\n\u001b[1;32m----> 2\u001b[0m \u001b[39mfrom\u001b[39;00m \u001b[39mspacy\u001b[39;00m \u001b[39mimport\u001b[39;00m TextBlob\n\u001b[0;32m      4\u001b[0m \u001b[39m# Read the contents of the file\u001b[39;00m\n\u001b[0;32m      5\u001b[0m \u001b[39mwith\u001b[39;00m \u001b[39mopen\u001b[39m(\u001b[39m\"\u001b[39m\u001b[39msong.json\u001b[39m\u001b[39m\"\u001b[39m, \u001b[39m\"\u001b[39m\u001b[39mr\u001b[39m\u001b[39m\"\u001b[39m) \u001b[39mas\u001b[39;00m f:\n",
      "\u001b[1;31mModuleNotFoundError\u001b[0m: No module named 'spacy'"
     ]
    }
   ],
   "source": [
    "import json\n",
    "from spacy import TextBlob\n",
    "\n",
    "# Read the contents of the file\n",
    "with open(\"song.json\", \"r\") as f:\n",
    "    song_data = json.load(f)\n",
    "\n",
    "# Print the lyrics of the song\n",
    "print(song_data[\"\"])\n",
    "\n",
    "# Perform sentiment analysis on the lyrics\n",
    "sentiment = TextBlob(song_data[\"lyrics\"])\n",
    "polarity = sentiment.sentiment.polarity\n",
    "\n",
    "# Print the polarity score\n",
    "print(\"Polarity score:\", polarity)\n",
    "\n",
    "# Comment on the polarity score\n",
    "if polarity > 0:\n",
    "    print(\"The lyrics have a more positive connotation.\")\n",
    "elif polarity < 0:\n",
    "    print(\"The lyrics have a more negative connotation.\")\n",
    "else:\n",
    "    print(\"The lyrics are neutral.\")"
   ]
  },
  {
   "cell_type": "markdown",
   "metadata": {},
   "source": [
    "3. Write a function that takes an artist, song, and filename, accesses the lyrics.ovh api to get the song lyrics, and writes the results to the specified filename.  Test this function by getting the lyrics to any four songs of your choice and storing them in different files."
   ]
  },
  {
   "cell_type": "code",
   "execution_count": null,
   "metadata": {},
   "outputs": [
    {
     "ename": "ModuleNotFoundError",
     "evalue": "No module named 'requests'",
     "output_type": "error",
     "traceback": [
      "\u001b[1;31m---------------------------------------------------------------------------\u001b[0m",
      "\u001b[1;31mModuleNotFoundError\u001b[0m                       Traceback (most recent call last)",
      "Cell \u001b[1;32mIn[3], line 1\u001b[0m\n\u001b[1;32m----> 1\u001b[0m \u001b[39mimport\u001b[39;00m \u001b[39mrequests\u001b[39;00m\n\u001b[0;32m      3\u001b[0m \u001b[39mdef\u001b[39;00m \u001b[39mget_song_lyrics\u001b[39m(artist, song, filename):\n\u001b[0;32m      4\u001b[0m \u001b[39m  \u001b[39m\u001b[39m\"\"\"Gets the lyrics for a song from the lyrics.ovh API and writes them to a file.\u001b[39;00m\n\u001b[0;32m      5\u001b[0m \n\u001b[0;32m      6\u001b[0m \u001b[39m  Args:\u001b[39;00m\n\u001b[1;32m   (...)\u001b[0m\n\u001b[0;32m      9\u001b[0m \u001b[39m    filename: The filename to write the lyrics to.\u001b[39;00m\n\u001b[0;32m     10\u001b[0m \u001b[39m  \"\"\"\u001b[39;00m\n",
      "\u001b[1;31mModuleNotFoundError\u001b[0m: No module named 'requests'"
     ]
    }
   ],
   "source": [
    "import requests\n",
    "\n",
    "def get_song_lyrics(artist, song, filename):\n",
    "  \"\"\"Gets the lyrics for a song from the lyrics.ovh API and writes them to a file.\n",
    "\n",
    "  Args:\n",
    "    artist: The name of the artist.\n",
    "    song: The name of the song.\n",
    "    filename: The filename to write the lyrics to.\n",
    "  \"\"\"\n",
    "\n",
    "  url = \"https://api.lyricsovh.com/v1/lyrics\"\n",
    "  params = {\n",
    "    \"artist\": artist,\n",
    "    \"title\": song,\n",
    "  }\n",
    "\n",
    "  response = requests.get(url, params=params)\n",
    "\n",
    "  if response.status_code == 200:\n",
    "    lyrics = response.json()[\"lyrics\"]\n",
    "    with open(filename, \"w\") as f:\n",
    "      f.write(lyrics)\n",
    "  else:\n",
    "    print(f\"Error getting lyrics for {artist} - {song}: {response.status_code}\")\n",
    "\n",
    "if __name__ == \"__main__\":\n",
    "  get_song_lyrics(\"Blink182\", \"Adams Song\", \"adams_song.txt\")\n",
    "  get_song_lyrics(\"Blink182\", \"All the Small Things\", \"all_the_small_things.txt\")\n",
    "  get_song_lyrics(\"Blink182\", \"I Miss You\", \"i_miss_you.txt\")"
   ]
  },
  {
   "cell_type": "markdown",
   "metadata": {},
   "source": [
    "4. Write a function that takes the name of a file that contains song lyrics, loads the file, performs sentiment analysis, and returns the polarity score.  Use this function to print the polarity scores (with the name of the song) of the three files you created in question 3.  Does the reported polarity match your understanding of the song's lyrics? Why or why not do you think that might be?  Answer the questions in either a comment in the code cell or a markdown cell under the code cell."
   ]
  },
  {
   "cell_type": "code",
   "execution_count": null,
   "metadata": {},
   "outputs": [
    {
     "ename": "ModuleNotFoundError",
     "evalue": "No module named 'spacy'",
     "output_type": "error",
     "traceback": [
      "\u001b[1;31m---------------------------------------------------------------------------\u001b[0m",
      "\u001b[1;31mModuleNotFoundError\u001b[0m                       Traceback (most recent call last)",
      "Cell \u001b[1;32mIn[2], line 1\u001b[0m\n\u001b[1;32m----> 1\u001b[0m \u001b[39mimport\u001b[39;00m \u001b[39mspacy\u001b[39;00m\n\u001b[0;32m      3\u001b[0m nlp \u001b[39m=\u001b[39m spacy\u001b[39m.\u001b[39mload(\u001b[39m\"\u001b[39m\u001b[39men_core_web_sm\u001b[39m\u001b[39m\"\u001b[39m)\n\u001b[0;32m      5\u001b[0m song_lyrics \u001b[39m=\u001b[39m \u001b[39m\"\"\"\u001b[39m\n\u001b[0;32m      6\u001b[0m \u001b[39mI\u001b[39m\u001b[39m'\u001b[39m\u001b[39mm so happy\u001b[39m\n\u001b[0;32m      7\u001b[0m \u001b[39mI could burst\u001b[39m\n\u001b[0;32m      8\u001b[0m \u001b[39mI\u001b[39m\u001b[39m'\u001b[39m\u001b[39mm so happy\u001b[39m\n\u001b[0;32m      9\u001b[0m \u001b[39mI could cry\u001b[39m\n\u001b[0;32m     10\u001b[0m \u001b[39m\"\"\"\u001b[39m\n",
      "\u001b[1;31mModuleNotFoundError\u001b[0m: No module named 'spacy'"
     ]
    }
   ],
   "source": [
    "import spacy\n",
    "\n",
    "nlp = spacy.load(\"en_core_web_sm\")\n",
    "\n",
    "song_lyrics = \"\"\"\n",
    "I'm so happy\n",
    "I could burst\n",
    "I'm so happy\n",
    "I could cry\n",
    "\"\"\"\n",
    "\n",
    "document = nlp(song_lyrics)\n",
    "\n",
    "polarity = document.sentiment.polarity\n",
    "\n",
    "print(polarity)"
   ]
  }
 ],
 "metadata": {
  "kernelspec": {
   "display_name": "Python 3",
   "language": "python",
   "name": "python3"
  },
  "language_info": {
   "codemirror_mode": {
    "name": "ipython",
    "version": 3
   },
   "file_extension": ".py",
   "mimetype": "text/x-python",
   "name": "python",
   "nbconvert_exporter": "python",
   "pygments_lexer": "ipython3",
   "version": "3.10.11"
  }
 },
 "nbformat": 4,
 "nbformat_minor": 4
}
